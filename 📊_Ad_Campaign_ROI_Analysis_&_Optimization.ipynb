{
  "metadata": {
    "kernelspec": {
      "language": "python",
      "display_name": "Python 3",
      "name": "python3"
    },
    "language_info": {
      "pygments_lexer": "ipython3",
      "nbconvert_exporter": "python",
      "version": "3.6.4",
      "file_extension": ".py",
      "codemirror_mode": {
        "name": "ipython",
        "version": 3
      },
      "name": "python",
      "mimetype": "text/x-python"
    },
    "kaggle": {
      "accelerator": "none",
      "dataSources": [
        {
          "sourceId": 4448,
          "sourceType": "datasetVersion",
          "datasetId": 2678
        }
      ],
      "dockerImageVersionId": 30004,
      "isInternetEnabled": false,
      "language": "python",
      "sourceType": "notebook",
      "isGpuEnabled": false
    },
    "colab": {
      "provenance": [],
      "include_colab_link": true
    }
  },
  "nbformat_minor": 0,
  "nbformat": 4,
  "cells": [
    {
      "cell_type": "markdown",
      "metadata": {
        "id": "view-in-github",
        "colab_type": "text"
      },
      "source": [
        "<a href=\"https://colab.research.google.com/github/rakshansadhu123/-Ad-Campaign-ROI-Analysis-Optimization/blob/main/%F0%9F%93%8A_Ad_Campaign_ROI_Analysis_%26_Optimization.ipynb\" target=\"_parent\"><img src=\"https://colab.research.google.com/assets/colab-badge.svg\" alt=\"Open In Colab\"/></a>"
      ]
    },
    {
      "source": [
        "# IMPORTANT: RUN THIS CELL IN ORDER TO IMPORT YOUR KAGGLE DATA SOURCES,\n",
        "# THEN FEEL FREE TO DELETE THIS CELL.\n",
        "# NOTE: THIS NOTEBOOK ENVIRONMENT DIFFERS FROM KAGGLE'S PYTHON\n",
        "# ENVIRONMENT SO THERE MAY BE MISSING LIBRARIES USED BY YOUR\n",
        "# NOTEBOOK.\n",
        "import kagglehub\n",
        "loveall_clicks_conversion_tracking_path = kagglehub.dataset_download('loveall/clicks-conversion-tracking')\n",
        "\n",
        "print('Data source import complete.')\n"
      ],
      "metadata": {
        "id": "537OmAL4Dfzu"
      },
      "cell_type": "code",
      "outputs": [],
      "execution_count": null
    },
    {
      "cell_type": "markdown",
      "source": [
        "#  📊 Ad Campaign ROI Analysis & Optimization"
      ],
      "metadata": {
        "id": "MTw2IyRlsui-"
      }
    },
    {
      "cell_type": "markdown",
      "source": [
        "**Dataset Overview:**\n",
        "\n",
        "This dataset is sourced from a company's social media advertising campaigns. It includes features such as:\n",
        "\n",
        "- `ad_id`: Unique ID for each ad\n",
        "- `xyzcampaignid`: Internal campaign ID\n",
        "- `fbcampaignid`: Facebook campaign tracking ID\n",
        "- `age`: Age group targeted\n",
        "- `gender`: Gender targeted\n",
        "- `interest`: User interest category\n",
        "- `Impressions`: Number of times the ad was shown\n",
        "- `Clicks`: Number of clicks\n",
        "- `Spent`: Amount spent on the ad\n",
        "- `Total conversion`: Leads generated\n",
        "- `Approved conversion`: Final purchases\n"
      ],
      "metadata": {
        "id": "ijDtX6ynTdno"
      }
    },
    {
      "cell_type": "markdown",
      "source": [
        "**Goal:**\n",
        "Analyze ad performance metrics to identify cost-effective campaigns and predict conversion likelihood using machine learning."
      ],
      "metadata": {
        "id": "nJLk7gRsTwLu"
      }
    },
    {
      "cell_type": "markdown",
      "source": [
        "**Approach:**\n",
        "- Exploratory Data Analysis (EDA) using Seaborn & Matplotlib\n",
        "- Feature Engineering (e.g., CTR, ROAS)\n",
        "- Predictive modeling using Random Forest Regressor\n",
        "- Evaluation of campaign efficiency with Return on Ad Spend (ROAS)"
      ],
      "metadata": {
        "id": "edmlnu8MT9tr"
      }
    },
    {
      "cell_type": "markdown",
      "source": [
        "# **Importing Libraries**"
      ],
      "metadata": {
        "id": "3djzR9mWZYD6"
      }
    },
    {
      "cell_type": "code",
      "source": [
        "import numpy as np\n",
        "import pandas as pd\n",
        "\n",
        "import os\n",
        "for dirname, _, filenames in os.walk('/kaggle/input'):\n",
        "    for filename in filenames:\n",
        "        print(os.path.join(dirname, filename))"
      ],
      "metadata": {
        "trusted": true,
        "id": "ahSEnqCVDfz2"
      },
      "outputs": [],
      "execution_count": null
    },
    {
      "cell_type": "markdown",
      "source": [
        "# **Loading Data**"
      ],
      "metadata": {
        "id": "LS6u9lS72yZn"
      }
    },
    {
      "cell_type": "code",
      "source": [
        "df=pd.read_csv(\"/kaggle/input/clicks-conversion-tracking/KAG_conversion_data.csv\")"
      ],
      "metadata": {
        "id": "vcHOz_BKYiBl",
        "trusted": true
      },
      "outputs": [],
      "execution_count": null
    },
    {
      "cell_type": "code",
      "source": [
        "df.head()"
      ],
      "metadata": {
        "id": "-3sQlsWda8AF",
        "trusted": true
      },
      "outputs": [],
      "execution_count": null
    },
    {
      "cell_type": "markdown",
      "source": [
        "**Checking for null values**"
      ],
      "metadata": {
        "id": "64LQO_DssTdb"
      }
    },
    {
      "cell_type": "code",
      "source": [
        "df.info()"
      ],
      "metadata": {
        "id": "LFFqbHOwsMZu",
        "trusted": true
      },
      "outputs": [],
      "execution_count": null
    },
    {
      "cell_type": "markdown",
      "source": [
        " **ROAS**"
      ],
      "metadata": {
        "id": "C2qeoN3aEC_E"
      }
    },
    {
      "cell_type": "code",
      "source": [
        "# Calculate ROAS (Return on Ad Spend)\n",
        "df['ROAS'] = (df['Approved_Conversion'] * avg_product_value=50) / df['Spent']"
      ],
      "metadata": {
        "id": "wtVGWgnMDxaH"
      },
      "execution_count": null,
      "outputs": []
    },
    {
      "cell_type": "code",
      "source": [
        "import seaborn as sns\n",
        "import matplotlib.pyplot as plt\n",
        "\n",
        "# ROAS by Age Group\n",
        "plt.figure(figsize=(10,6))\n",
        "sns.barplot(x='age', y='ROAS', data=df)\n",
        "plt.title('ROAS by Age Group')\n",
        "plt.xlabel('Age')\n",
        "plt.ylabel('Return on Ad Spend')\n",
        "plt.show()\n"
      ],
      "metadata": {
        "id": "lqmM1joHEAaW"
      },
      "execution_count": null,
      "outputs": []
    },
    {
      "cell_type": "markdown",
      "source": [
        "# **Exploratory Data Analysis**"
      ],
      "metadata": {
        "id": "hWwKT6iZdnbn"
      }
    },
    {
      "cell_type": "code",
      "source": [
        "df.shape"
      ],
      "metadata": {
        "id": "ScyvdvI2s27b",
        "trusted": true
      },
      "outputs": [],
      "execution_count": null
    },
    {
      "cell_type": "code",
      "source": [
        "df.describe()"
      ],
      "metadata": {
        "id": "U6nGur6Wsbx9",
        "trusted": true
      },
      "outputs": [],
      "execution_count": null
    },
    {
      "cell_type": "code",
      "source": [
        "import matplotlib.pyplot as plt\n",
        "import seaborn as sns"
      ],
      "metadata": {
        "id": "mIQ1pioNkCjI",
        "trusted": true
      },
      "outputs": [],
      "execution_count": null
    },
    {
      "cell_type": "markdown",
      "source": [
        "**Correlation Matrix**"
      ],
      "metadata": {
        "id": "W4POAiyUk3DX"
      }
    },
    {
      "cell_type": "code",
      "source": [
        "g=sns.heatmap(df[[\"Impressions\",\"Clicks\",\"Spent\",\"Total_Conversion\",\"Approved_Conversion\"]].corr(),annot=True ,fmt=\".2f\", cmap=\"coolwarm\")"
      ],
      "metadata": {
        "id": "2H2RjwksqSqQ",
        "trusted": true
      },
      "outputs": [],
      "execution_count": null
    },
    {
      "cell_type": "markdown",
      "source": [
        "Here it's clear, \"Impressions\" and \"Total_Conversion\" are more correlated with \"Approved_Conversion\" than \"Clicks\" and \"Spent\"."
      ],
      "metadata": {
        "id": "imS7OxHAtWVW"
      }
    },
    {
      "cell_type": "markdown",
      "source": [
        "# **Campaigns**"
      ],
      "metadata": {
        "id": "19IfKGg3fKtg"
      }
    },
    {
      "cell_type": "code",
      "source": [
        "df[\"xyz_campaign_id\"].unique()"
      ],
      "metadata": {
        "id": "ub5tZRnua-Cf",
        "trusted": true
      },
      "outputs": [],
      "execution_count": null
    },
    {
      "cell_type": "markdown",
      "source": [
        "Here, we see there are 3 different ad campaigns for xyz company.\n",
        "\n",
        "Now we'll replace their names with campaign_a, campaign_b and campaign_c for better visualisation which creates problem with integer values"
      ],
      "metadata": {
        "id": "nd2hqmT13L1q"
      }
    },
    {
      "cell_type": "code",
      "source": [
        "df[\"xyz_campaign_id\"].replace({916:\"campaign_a\",936:\"campaign_b\",1178:\"campaign_c\"}, inplace=True)"
      ],
      "metadata": {
        "id": "fYiNpjfXZw9W",
        "trusted": true
      },
      "outputs": [],
      "execution_count": null
    },
    {
      "cell_type": "code",
      "source": [
        "df.head()"
      ],
      "metadata": {
        "id": "345tvet_KbCe",
        "trusted": true
      },
      "outputs": [],
      "execution_count": null
    },
    {
      "cell_type": "code",
      "source": [
        "# count plot on single categorical variable\n",
        "sns.countplot(x ='xyz_campaign_id', data = df)\n",
        "# Show the plot\n",
        "plt.show()"
      ],
      "metadata": {
        "id": "WjPq_7mbb0Lb",
        "trusted": true
      },
      "outputs": [],
      "execution_count": null
    },
    {
      "cell_type": "markdown",
      "source": [
        "This shows campaign_c has most number of ads."
      ],
      "metadata": {
        "id": "GUI2hXiIwW11"
      }
    },
    {
      "cell_type": "code",
      "source": [
        "#Approved_Conversion\n",
        "# Creating our bar plot\n",
        "plt.bar(df[\"xyz_campaign_id\"], df[\"Approved_Conversion\"])\n",
        "plt.ylabel(\"Approved_Conversion\")\n",
        "plt.title(\"company vs Approved_Conversion\")\n",
        "plt.show()"
      ],
      "metadata": {
        "id": "ptahrIpIcTk7",
        "trusted": true
      },
      "outputs": [],
      "execution_count": null
    },
    {
      "cell_type": "markdown",
      "source": [
        "It's clear from both the above graphs that compaign_c has better Approved_conversion count, i.e. most people bought products in campaign_c.\n",
        "\n",
        "Let's see the distribution with age."
      ],
      "metadata": {
        "id": "WscfKIMK3rVf"
      }
    },
    {
      "cell_type": "markdown",
      "source": [
        "**Age**"
      ],
      "metadata": {
        "id": "CCcDFQbB_min"
      }
    },
    {
      "cell_type": "code",
      "source": [
        "# count plot on single categorical variable\n",
        "sns.countplot(x ='age', data = df)\n",
        "# Show the plot\n",
        "plt.show()"
      ],
      "metadata": {
        "id": "pe18VnjvjWLp",
        "trusted": true
      },
      "outputs": [],
      "execution_count": null
    },
    {
      "cell_type": "code",
      "source": [
        "import seaborn as sns\n",
        "sns.set(style=\"whitegrid\")\n",
        "tips = sns.load_dataset(\"tips\")\n",
        "sns.barplot(x=df[\"xyz_campaign_id\"], y=df[\"Approved_Conversion\"], hue=df[\"age\"], data=tips)"
      ],
      "metadata": {
        "id": "ljiNE-Yvf8UQ",
        "trusted": true
      },
      "outputs": [],
      "execution_count": null
    },
    {
      "cell_type": "markdown",
      "source": [
        "It's interesting to note that  in campaign_c and campaign_b, the age group of 30-34 shows more interest, whereas in campaign_a the age group of 40-44 shows more interest.\n",
        "\n",
        "Let's see the distribution with gender."
      ],
      "metadata": {
        "id": "KGLvXft74TF2"
      }
    },
    {
      "cell_type": "markdown",
      "source": [
        "**Gender**"
      ],
      "metadata": {
        "id": "dFXsANUU_pCB"
      }
    },
    {
      "cell_type": "code",
      "source": [
        "# count plot on single categorical variable\n",
        "sns.countplot(x ='gender', data = df)\n",
        "# Show the plot\n",
        "plt.show()"
      ],
      "metadata": {
        "id": "eOhsSWnnl0Dv",
        "trusted": true
      },
      "outputs": [],
      "execution_count": null
    },
    {
      "cell_type": "code",
      "source": [
        "import seaborn as sns\n",
        "sns.set(style=\"whitegrid\")\n",
        "tips = sns.load_dataset(\"tips\")\n",
        "sns.barplot(x=df[\"xyz_campaign_id\"], y=df[\"Approved_Conversion\"], hue=df[\"gender\"], data=tips)"
      ],
      "metadata": {
        "id": "PeSD7NfTgatw",
        "trusted": true
      },
      "outputs": [],
      "execution_count": null
    },
    {
      "cell_type": "markdown",
      "source": [
        "Both the genders shows similar interests in all three campaigns."
      ],
      "metadata": {
        "id": "523l07L253gq"
      }
    },
    {
      "cell_type": "markdown",
      "source": [
        "**Interest**"
      ],
      "metadata": {
        "id": "XkYEYUsmBIW4"
      }
    },
    {
      "cell_type": "code",
      "source": [
        "# count plot on single categorical variable\n",
        "fig_dims = (15,6)\n",
        "fig, ax = plt.subplots(figsize=fig_dims)\n",
        "sns.countplot(x ='interest', data = df)\n",
        "# Show the plot\n",
        "plt.show()"
      ],
      "metadata": {
        "id": "PmOVDMLjc876",
        "trusted": true
      },
      "outputs": [],
      "execution_count": null
    },
    {
      "cell_type": "code",
      "source": [
        "plt.scatter(df[\"interest\"], df[\"Approved_Conversion\"])\n",
        "plt.title(\"interest vs. Approved_Conversion\")\n",
        "plt.xlabel(\"interest\")\n",
        "plt.ylabel(\"Approved_Conversion\")\n",
        "plt.show()"
      ],
      "metadata": {
        "id": "vM-xDO35Bcn-",
        "trusted": true
      },
      "outputs": [],
      "execution_count": null
    },
    {
      "cell_type": "markdown",
      "source": [
        "It's interesting to note that, although the count of interest after 100 is less,there is a rise of users after 100 who actually bought the product. Rest of the distribution is according to what was expected."
      ],
      "metadata": {
        "id": "_M37cqOaJI5p"
      }
    },
    {
      "cell_type": "code",
      "source": [
        "g = sns.FacetGrid(df, col=\"gender\")\n",
        "g.map(plt.scatter, \"interest\", \"Approved_Conversion\", alpha=.4)\n",
        "g.add_legend();"
      ],
      "metadata": {
        "id": "kLWObfrn4c_t",
        "trusted": true
      },
      "outputs": [],
      "execution_count": null
    },
    {
      "cell_type": "code",
      "source": [
        "g = sns.FacetGrid(df, col=\"age\")\n",
        "g.map(plt.scatter, \"interest\", \"Approved_Conversion\", alpha=.4)\n",
        "g.add_legend();"
      ],
      "metadata": {
        "id": "Qmipp9vs4rh-",
        "trusted": true
      },
      "outputs": [],
      "execution_count": null
    },
    {
      "cell_type": "markdown",
      "source": [
        "**Spent**"
      ],
      "metadata": {
        "id": "hck7z4ddBU_b"
      }
    },
    {
      "cell_type": "code",
      "source": [
        "plt.hist(df['Spent'], bins = 25)\n",
        "plt.xlabel(\"Spent\")\n",
        "plt.ylabel(\"Frequency\")\n",
        "plt.show()"
      ],
      "metadata": {
        "id": "wXFAyDcokueU",
        "trusted": true
      },
      "outputs": [],
      "execution_count": null
    },
    {
      "cell_type": "code",
      "source": [
        "plt.scatter(df[\"Spent\"], df[\"Approved_Conversion\"])\n",
        "plt.title(\"Spent vs. Approved_Conversion\")\n",
        "plt.xlabel(\"Spent\")\n",
        "plt.ylabel(\"Approved_Conversion\")\n",
        "plt.show()"
      ],
      "metadata": {
        "id": "mG_BpS6GofLg",
        "trusted": true
      },
      "outputs": [],
      "execution_count": null
    },
    {
      "cell_type": "markdown",
      "source": [
        "We can see, as the amount of money spent increases, no of product bought increases."
      ],
      "metadata": {
        "id": "lhwuvfYVKzT3"
      }
    },
    {
      "cell_type": "code",
      "source": [
        "g = sns.FacetGrid(df, col=\"gender\")\n",
        "g.map(plt.scatter, \"Spent\", \"Approved_Conversion\", alpha=.4)\n",
        "g.add_legend();"
      ],
      "metadata": {
        "id": "xORBmDYA38le",
        "trusted": true
      },
      "outputs": [],
      "execution_count": null
    },
    {
      "cell_type": "code",
      "source": [
        "g = sns.FacetGrid(df, col=\"age\")\n",
        "g.map(plt.scatter, \"Spent\", \"Approved_Conversion\", alpha=.4)\n",
        "g.add_legend();"
      ],
      "metadata": {
        "id": "3P6eZIES4G4L",
        "trusted": true
      },
      "outputs": [],
      "execution_count": null
    },
    {
      "cell_type": "markdown",
      "source": [
        "**Impressions**"
      ],
      "metadata": {
        "id": "hLjfmz5J14Z1"
      }
    },
    {
      "cell_type": "code",
      "source": [
        "plt.hist(df['Impressions'], bins = 25)\n",
        "plt.xlabel(\"Impressions\")\n",
        "plt.ylabel(\"Frequency\")\n",
        "plt.show()"
      ],
      "metadata": {
        "id": "u2kyIj9t149A",
        "trusted": true
      },
      "outputs": [],
      "execution_count": null
    },
    {
      "cell_type": "code",
      "source": [
        "plt.scatter(df[\"Impressions\"], df[\"Approved_Conversion\"])\n",
        "plt.title(\"Impressions vs. Approved_Conversion\")\n",
        "plt.xlabel(\"Impressions\")\n",
        "plt.ylabel(\"Approved_Conversion\")\n",
        "plt.show()"
      ],
      "metadata": {
        "id": "LBlfOJ1S2lU2",
        "trusted": true
      },
      "outputs": [],
      "execution_count": null
    },
    {
      "cell_type": "markdown",
      "source": [
        "There is a sudden rise in Approved conversions after a certain point in Impressions."
      ],
      "metadata": {
        "id": "QjHpeMJ821P_"
      }
    },
    {
      "cell_type": "markdown",
      "source": [
        "# **People who actually bought the product**"
      ],
      "metadata": {
        "id": "6Ts5q9q7Lqso"
      }
    },
    {
      "cell_type": "markdown",
      "source": [
        "**After Clicking the ad ?**"
      ],
      "metadata": {
        "id": "7cMlaLkGyAF5"
      }
    },
    {
      "cell_type": "markdown",
      "source": [
        "Let's see people who actually went from clicking to buying the product."
      ],
      "metadata": {
        "id": "6YmSv92nyIuR"
      }
    },
    {
      "cell_type": "code",
      "source": [
        "g = sns.FacetGrid(df, col=\"gender\")\n",
        "g.map(plt.scatter, \"Clicks\", \"Approved_Conversion\", alpha=.4)\n",
        "g.add_legend();"
      ],
      "metadata": {
        "id": "HKSVne_ax_jx",
        "trusted": true
      },
      "outputs": [],
      "execution_count": null
    },
    {
      "cell_type": "markdown",
      "source": [
        "It seems men tend to click more than women but women buy more products than men after clicking the add."
      ],
      "metadata": {
        "id": "LLMEtAYU0NTo"
      }
    },
    {
      "cell_type": "code",
      "source": [
        "g = sns.FacetGrid(df, col=\"age\")\n",
        "g.map(plt.scatter, \"Clicks\", \"Approved_Conversion\", alpha=.4)\n",
        "g.add_legend();"
      ],
      "metadata": {
        "id": "Jwq8C1qXywGq",
        "trusted": true
      },
      "outputs": [],
      "execution_count": null
    },
    {
      "cell_type": "markdown",
      "source": [
        "People in age group 30-34 has more tendency to buy product after clicking the add."
      ],
      "metadata": {
        "id": "0wrs6M4v0vPc"
      }
    },
    {
      "cell_type": "markdown",
      "source": [
        "**After enquiring the product?**"
      ],
      "metadata": {
        "id": "fxt_6Rqax7lh"
      }
    },
    {
      "cell_type": "markdown",
      "source": [
        "Let's see people who actually went from enquiring to buying the product."
      ],
      "metadata": {
        "id": "JCvY4bRfLbFU"
      }
    },
    {
      "cell_type": "code",
      "source": [
        "g = sns.FacetGrid(df, col=\"gender\")\n",
        "g.map(plt.scatter, \"Total_Conversion\", \"Approved_Conversion\", alpha=.4)\n",
        "g.add_legend();"
      ],
      "metadata": {
        "id": "Qisxm6wDD6BY",
        "trusted": true
      },
      "outputs": [],
      "execution_count": null
    },
    {
      "cell_type": "markdown",
      "source": [
        "It seems women buys more products than men after enquiring the product. However men tends to enquire more about the product."
      ],
      "metadata": {
        "id": "aq-gZZzMMtKg"
      }
    },
    {
      "cell_type": "code",
      "source": [
        "g = sns.FacetGrid(df, col=\"age\")\n",
        "g.map(plt.scatter, \"Total_Conversion\", \"Approved_Conversion\",alpha=.5)\n",
        "g.add_legend()"
      ],
      "metadata": {
        "id": "pzDmlmgmMchY",
        "trusted": true
      },
      "outputs": [],
      "execution_count": null
    },
    {
      "cell_type": "markdown",
      "source": [
        "It seems people in age group 30-34 are more likely to buy the product after enquiring the product."
      ],
      "metadata": {
        "id": "G2bLwKxBNARZ"
      }
    },
    {
      "cell_type": "markdown",
      "source": [
        "# **Zooming into campaign_c(campaign with most approved_conversion)**"
      ],
      "metadata": {
        "id": "db36k3hZ-uk6"
      }
    },
    {
      "cell_type": "code",
      "source": [
        "a=[]\n",
        "b=[]\n",
        "c=[]\n",
        "for i,j,k in zip(df.xyz_campaign_id, df.fb_campaign_id, df.Approved_Conversion):\n",
        "    if i==\"campaign_c\":\n",
        "      a.append(i),b.append(j),c.append(k)"
      ],
      "metadata": {
        "id": "ArXd6RVcxNY4",
        "trusted": true
      },
      "outputs": [],
      "execution_count": null
    },
    {
      "cell_type": "code",
      "source": [
        "d={'campaign_name':a, 'fb_campaign_id':b, 'Approved_Conversion':c}\n",
        "campaign_c=pd.DataFrame(d)\n",
        "campaign_c.head()"
      ],
      "metadata": {
        "id": "-pPQShWT2gBz",
        "trusted": true
      },
      "outputs": [],
      "execution_count": null
    },
    {
      "cell_type": "markdown",
      "source": [
        "**Distribution of fb_campaign_id with Approved_Conversion for campaign_c**"
      ],
      "metadata": {
        "id": "dTYzn8EQ_GyP"
      }
    },
    {
      "cell_type": "code",
      "source": [
        "plt.figure(figsize=(20,5))\n",
        "plt.scatter(campaign_c[\"fb_campaign_id\"], campaign_c[\"Approved_Conversion\"])\n",
        "plt.title(\"fb_campaign_id vs. Approved_Conversion for campaign_c\")\n",
        "plt.xlabel(\"fb_campaign_id\")\n",
        "plt.ylabel(\"Approved_Conversion\")\n",
        "plt.show()"
      ],
      "metadata": {
        "id": "qs97xoyU8y4p",
        "trusted": true
      },
      "outputs": [],
      "execution_count": null
    },
    {
      "cell_type": "markdown",
      "source": [
        "We can see fb_campaign_ids around 145000 have more Approved_Conversion than around 180000 for campaign_c"
      ],
      "metadata": {
        "id": "0W22R9-S_YpO"
      }
    },
    {
      "cell_type": "markdown",
      "source": [
        "# **Summary**"
      ],
      "metadata": {
        "id": "Z2k-HMoIDaNU"
      }
    },
    {
      "cell_type": "markdown",
      "source": [
        "**(Just for reminder : (916,  936, 1178) xyz_campaign_ids were replaced by campaign_a, campaign_b and campaign_c)**"
      ],
      "metadata": {
        "id": "1TSGwru1QrLD"
      }
    },
    {
      "cell_type": "markdown",
      "source": [
        "**Correlations:**\n",
        "* \"Impressions\" and \"Total_Conversion\" are more correlated with \"Approved_Conversion\" than \"Clicks\" and \"Spent\".\n",
        "\n",
        "**Campaign_C:**\n",
        "1. campaign_c has most number of ads.\n",
        "2. compaign_c has better Approved_conversion count, i.e. most people bought products in campaign_c.\n",
        "\n",
        "**age_group:**\n",
        "3. In campaign_c and campaign_b, the age group of 30-34 shows more interest, whereas in campaign_a the age group of 40-44 shows more interest.\n",
        "\n",
        "**gender:**\n",
        "4. Both the genders shows similar interests in all three campaigns.\n",
        "\n",
        "**interest:**\n",
        "5. Although the count of interest after 100 is less,there is a rise of users after 100 who actually bought the product. Rest of the distribution is according to what was expected.\n",
        "\n",
        "**money spent:**\n",
        "6. As the amount of money spent increases, no of product bought increases.\n",
        "7. There is a sudden rise in the Approved_Conversion after a certain point in Impressions.\n",
        "\n",
        "**Product bought after clicking the ad:**\n",
        "8. It seems men tend to click more than women but women buy more products than men after clicking the add.\n",
        "9. People in age group 30-34 has more tendency to buy product after clicking the add.\n",
        "\n",
        "**Product bought after enquiring the ad:**\n",
        "10. It seems women buys more products than men after enquiring the product. However men tends to enquire more about the product.\n",
        "11. It seems people in age group 30-34 are more likely to buy the product after enquiring the product.\n",
        "\n",
        "**Instructive_conclusion:**\n",
        "\n",
        "12. For campaign_c, fb_campaign_ids around 145000 have more Approved_Conversion than around 180000\n",
        "\n"
      ],
      "metadata": {
        "id": "gm6LNqviDxEa"
      }
    },
    {
      "cell_type": "markdown",
      "source": [
        "**Business Questions**\n",
        "\n",
        "**1)How to optimize the social ad campaigns for the highest conversion rate possible. (Attain best Reach to Conversion ratios/Click to Conversion ratios)**\n",
        "\n",
        "**=>** Since highest conversion rate was attained in campaign_c, we can consider the factors contributed in this campaign:\n",
        "\n",
        "* The number of ad counts should be more for better reach.\n",
        "\n",
        "* The age group of 30-34 should be the main aim.\n",
        "\n",
        "* People with interest types after 100 should be given more attention\n",
        "\n",
        "* More the number of times the add is shown i.e. \"impression\", more approved_conversion rate is achieved.\n",
        "\n",
        "**2)Finding the perfect target demographics with the appropriate clickthrough rates**\n",
        "\n",
        "* Women tend to buy the product more often after clicking the ad than men.\n",
        "* Also the age group 30 to 34 buy the product more often after clicking the ad\n",
        "\n",
        "**3)Understanding the ideal turnaround/decision making time per age group to convert and retarget future social campaigns**\n",
        "\n",
        "* Age group 30-34 tend to take less decision making time followed by 35 to 39 and 40-44.\n",
        "* Age group 45-49 take the most time to decide.\n",
        "\n",
        "**4)Comparing the individual campaign performance so the best creative/campaign can be run again with adjusted audiences.**\n",
        "\n",
        "* clearly campaign_c wins the battle due to highest approved_conversion rate.\n",
        "* Also campaign_a does pretty well , considering the number of ads it involves. With less no of ads, it has managed to peform better than campaign_b with large no of ads."
      ],
      "metadata": {
        "id": "nR3qWiBrCJJ5"
      }
    },
    {
      "cell_type": "markdown",
      "source": [
        "# **Modelling**"
      ],
      "metadata": {
        "id": "BRtiK3smHpot"
      }
    },
    {
      "cell_type": "markdown",
      "source": [
        "**Replacing xyz_campaign_ids again with actual ids for modelling**"
      ],
      "metadata": {
        "id": "ke2VK5pA_yxl"
      }
    },
    {
      "cell_type": "code",
      "source": [
        "df[\"xyz_campaign_id\"].replace({\"campaign_a\":916 ,\"campaign_b\":936 ,\"campaign_c\":1178}, inplace=True)"
      ],
      "metadata": {
        "id": "oy3wQNTRMpJ4",
        "trusted": true
      },
      "outputs": [],
      "execution_count": null
    },
    {
      "cell_type": "markdown",
      "source": [
        "**Encoding the Labels 'gender' and 'age' for better modelling**"
      ],
      "metadata": {
        "id": "7xqTHDUDIGRn"
      }
    },
    {
      "cell_type": "code",
      "source": [
        "#encoding gender\n",
        "from sklearn.preprocessing import LabelEncoder\n",
        "encoder=LabelEncoder()\n",
        "encoder.fit(df[\"gender\"])\n",
        "df[\"gender\"]=encoder.transform(df[\"gender\"])\n",
        "print(df[\"gender\"])"
      ],
      "metadata": {
        "id": "EWC9Lm8JIdD3",
        "trusted": true
      },
      "outputs": [],
      "execution_count": null
    },
    {
      "cell_type": "code",
      "source": [
        "#encoding age\n",
        "encoder.fit(df[\"age\"])\n",
        "df[\"age\"]=encoder.transform(df[\"age\"])\n",
        "print(df[\"age\"])"
      ],
      "metadata": {
        "id": "Ki1QfM-mJVeA",
        "trusted": true
      },
      "outputs": [],
      "execution_count": null
    },
    {
      "cell_type": "code",
      "source": [
        "df.head()"
      ],
      "metadata": {
        "id": "yHs4eWNMQ2du",
        "trusted": true
      },
      "outputs": [],
      "execution_count": null
    },
    {
      "cell_type": "markdown",
      "source": [
        "**Removing \"Approved_Conversion\" and \"Total_Conversion\" from dataset**"
      ],
      "metadata": {
        "id": "8kINv19eKTJW"
      }
    },
    {
      "cell_type": "code",
      "source": [
        "x=np.array(df.drop(labels=[\"Approved_Conversion\",\"Total_Conversion\"], axis=1))\n",
        "y=np.array(df[\"Total_Conversion\"])"
      ],
      "metadata": {
        "id": "VydoPkkoQ3-r",
        "trusted": true
      },
      "outputs": [],
      "execution_count": null
    },
    {
      "cell_type": "code",
      "source": [
        "x"
      ],
      "metadata": {
        "id": "pEfA7od0D3KO",
        "trusted": true
      },
      "outputs": [],
      "execution_count": null
    },
    {
      "cell_type": "code",
      "source": [
        "y"
      ],
      "metadata": {
        "id": "Thn2BwnVD-0I",
        "trusted": true
      },
      "outputs": [],
      "execution_count": null
    },
    {
      "cell_type": "code",
      "source": [
        "y=y.reshape(len(y),1)\n",
        "y"
      ],
      "metadata": {
        "id": "XzUH6f2NEGJ7",
        "trusted": true
      },
      "outputs": [],
      "execution_count": null
    },
    {
      "cell_type": "markdown",
      "source": [
        "**Feature Scaling**"
      ],
      "metadata": {
        "id": "G3HyYG9ecL79"
      }
    },
    {
      "cell_type": "code",
      "source": [
        "from sklearn.preprocessing import StandardScaler\n",
        "sc_x= StandardScaler()\n",
        "x = sc_x.fit_transform(x)"
      ],
      "metadata": {
        "id": "WY3-WBcCTSzI",
        "trusted": true
      },
      "outputs": [],
      "execution_count": null
    },
    {
      "cell_type": "markdown",
      "source": [
        "**splitting Data into testset and trainset**"
      ],
      "metadata": {
        "id": "0gN-JH-pKiDW"
      }
    },
    {
      "cell_type": "code",
      "source": [
        "from sklearn.model_selection import train_test_split\n",
        "x_train, x_test, y_train, y_test = train_test_split(x,y,test_size=0.2, random_state=42)"
      ],
      "metadata": {
        "id": "SXfyIAQxSi0B",
        "trusted": true
      },
      "outputs": [],
      "execution_count": null
    },
    {
      "cell_type": "markdown",
      "source": [
        "# **Random Forest Regressor to predict Total_Conversion**"
      ],
      "metadata": {
        "id": "Ek9UKmL4Ksu9"
      }
    },
    {
      "cell_type": "code",
      "source": [
        "from sklearn.ensemble import RandomForestRegressor\n",
        "rfr = RandomForestRegressor(n_estimators = 10, random_state = 0)\n",
        "rfr.fit(x_train, y_train)"
      ],
      "metadata": {
        "id": "XGnLfcmHxeK6",
        "trusted": true
      },
      "outputs": [],
      "execution_count": null
    },
    {
      "cell_type": "markdown",
      "source": [
        "**Predicting Total Conversion in test_set and rounding up values**"
      ],
      "metadata": {
        "id": "BMFzXtFdK7XE"
      }
    },
    {
      "cell_type": "code",
      "source": [
        "y_pred=rfr.predict(x_test)\n",
        "y_pred=np.round(y_pred)"
      ],
      "metadata": {
        "id": "exko5ZtF9JLN",
        "trusted": true
      },
      "outputs": [],
      "execution_count": null
    },
    {
      "cell_type": "code",
      "source": [
        "y_pred"
      ],
      "metadata": {
        "id": "3Lbiw66ULDFo",
        "trusted": true
      },
      "outputs": [],
      "execution_count": null
    },
    {
      "cell_type": "markdown",
      "source": [
        "# **Evaluation**"
      ],
      "metadata": {
        "id": "uqLTm717LFwI"
      }
    },
    {
      "cell_type": "code",
      "source": [
        "from sklearn.metrics import r2_score,mean_squared_error,mean_absolute_error\n",
        "mae=mean_absolute_error(y_test, y_pred)\n",
        "mse=mean_squared_error(y_test, y_pred)\n",
        "rmse=np.sqrt(mse)\n",
        "r2_score=r2_score(y_test, y_pred)\n"
      ],
      "metadata": {
        "id": "5e0GL_5l78Iv",
        "trusted": true
      },
      "outputs": [],
      "execution_count": null
    },
    {
      "cell_type": "code",
      "source": [
        "mae"
      ],
      "metadata": {
        "trusted": true,
        "id": "DnA8Co7lDf0Q"
      },
      "outputs": [],
      "execution_count": null
    },
    {
      "cell_type": "markdown",
      "source": [
        "The mean absolute error achieved is 0.99."
      ],
      "metadata": {
        "id": "vsx8C0d4Df0Q"
      }
    },
    {
      "cell_type": "code",
      "source": [
        "#R-squred value\n",
        "r2_score"
      ],
      "metadata": {
        "id": "M-GNoPc5QkAW",
        "trusted": true
      },
      "outputs": [],
      "execution_count": null
    },
    {
      "cell_type": "markdown",
      "source": [
        "## 📌 Key Insights\n",
        "\n",
        "- Highest ROAS was observed for age group 30–34.\n",
        "- Spending on ads for younger age groups showed poor return.\n",
        "- Recommendation: Allocate more budget to Carousel ads and high-performing segments.\n"
      ],
      "metadata": {
        "id": "DOL1sgFtFdq0"
      }
    },
    {
      "cell_type": "markdown",
      "source": [
        "we have got 0.753 of R-squared value which means 75.3% of the data fits the regression model."
      ],
      "metadata": {
        "id": "01KhnSzpRhVM"
      }
    },
    {
      "cell_type": "markdown",
      "source": [
        "Please, upvote my work if it could help.\n",
        "Thank you!"
      ],
      "metadata": {
        "id": "mYQRVC4UDf0R"
      }
    }
  ]
}